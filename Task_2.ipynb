{
  "nbformat": 4,
  "nbformat_minor": 0,
  "metadata": {
    "colab": {
      "name": "Task_2.ipynb",
      "provenance": [],
      "collapsed_sections": [],
      "authorship_tag": "ABX9TyML8Z6rF4KI0aUPKC3M9IYx",
      "include_colab_link": true
    },
    "kernelspec": {
      "name": "python3",
      "display_name": "Python 3"
    }
  },
  "cells": [
    {
      "cell_type": "markdown",
      "metadata": {
        "id": "view-in-github",
        "colab_type": "text"
      },
      "source": [
        "<a href=\"https://colab.research.google.com/github/Winner121353/Deep_Learning_Assignment/blob/master/Task_2.ipynb\" target=\"_parent\"><img src=\"https://colab.research.google.com/assets/colab-badge.svg\" alt=\"Open In Colab\"/></a>"
      ]
    },
    {
      "cell_type": "markdown",
      "metadata": {
        "id": "OZKOSfNYstGe",
        "colab_type": "text"
      },
      "source": [
        "# Task-2(Deep Learning Assignment)"
      ]
    },
    {
      "cell_type": "markdown",
      "metadata": {
        "id": "Bk4ZqxdZrlSZ",
        "colab_type": "text"
      },
      "source": [
        "**Problem:** Write short programs in Tensorflow which uses the following objects:\n",
        "Constants, Variables and Placeholders"
      ]
    },
    {
      "cell_type": "code",
      "metadata": {
        "id": "6EaBGFiPvN-o",
        "colab_type": "code",
        "colab": {
          "base_uri": "https://localhost:8080/",
          "height": 35
        },
        "outputId": "7f7c9057-a9df-4ed0-df59-4952e0a1b52e"
      },
      "source": [
        "%tensorflow_version 1.x"
      ],
      "execution_count": 1,
      "outputs": [
        {
          "output_type": "stream",
          "text": [
            "TensorFlow 1.x selected.\n"
          ],
          "name": "stdout"
        }
      ]
    },
    {
      "cell_type": "code",
      "metadata": {
        "id": "D2T02b3trkS_",
        "colab_type": "code",
        "colab": {}
      },
      "source": [
        "import tensorflow as tf"
      ],
      "execution_count": 0,
      "outputs": []
    },
    {
      "cell_type": "code",
      "metadata": {
        "id": "bXwFty49tQOD",
        "colab_type": "code",
        "colab": {
          "base_uri": "https://localhost:8080/",
          "height": 35
        },
        "outputId": "5ab7f141-0cc0-4962-cb64-4bdaf84f899a"
      },
      "source": [
        "print(tf.__version__)"
      ],
      "execution_count": 3,
      "outputs": [
        {
          "output_type": "stream",
          "text": [
            "1.15.2\n"
          ],
          "name": "stdout"
        }
      ]
    },
    {
      "cell_type": "code",
      "metadata": {
        "id": "gBQi47Sqtfj3",
        "colab_type": "code",
        "colab": {}
      },
      "source": [
        "import numpy as np"
      ],
      "execution_count": 0,
      "outputs": []
    },
    {
      "cell_type": "markdown",
      "metadata": {
        "id": "DVcSFZ9MwPWV",
        "colab_type": "text"
      },
      "source": [
        "## Neural Network Example(Variables and Placeholders)"
      ]
    },
    {
      "cell_type": "code",
      "metadata": {
        "id": "V0-15Cdct52d",
        "colab_type": "code",
        "colab": {}
      },
      "source": [
        "n_features =10\n",
        "n_dense_neurons =3"
      ],
      "execution_count": 0,
      "outputs": []
    },
    {
      "cell_type": "code",
      "metadata": {
        "id": "I1KF1xOduB6V",
        "colab_type": "code",
        "colab": {}
      },
      "source": [
        "x = tf.placeholder(tf.float32,(None,n_features))"
      ],
      "execution_count": 0,
      "outputs": []
    },
    {
      "cell_type": "code",
      "metadata": {
        "id": "Jjfriv5KuFQ9",
        "colab_type": "code",
        "colab": {}
      },
      "source": [
        "W = tf.Variable(tf.random_normal([n_features,n_dense_neurons]))\n",
        "b = tf.Variable(tf.ones([n_dense_neurons]))"
      ],
      "execution_count": 0,
      "outputs": []
    },
    {
      "cell_type": "code",
      "metadata": {
        "id": "i0L-ykYfwdl6",
        "colab_type": "code",
        "colab": {}
      },
      "source": [
        "xW = tf.matmul(x,W)"
      ],
      "execution_count": 0,
      "outputs": []
    },
    {
      "cell_type": "code",
      "metadata": {
        "id": "rM08pUcqwhjB",
        "colab_type": "code",
        "colab": {}
      },
      "source": [
        "z = tf.add(xW,b)"
      ],
      "execution_count": 0,
      "outputs": []
    },
    {
      "cell_type": "code",
      "metadata": {
        "id": "HS0IqoBCwmvw",
        "colab_type": "code",
        "colab": {}
      },
      "source": [
        "a = tf.sigmoid(z)"
      ],
      "execution_count": 0,
      "outputs": []
    },
    {
      "cell_type": "code",
      "metadata": {
        "id": "2K18XUHxwqlQ",
        "colab_type": "code",
        "colab": {}
      },
      "source": [
        "init = tf.global_variables_initializer()"
      ],
      "execution_count": 0,
      "outputs": []
    },
    {
      "cell_type": "code",
      "metadata": {
        "id": "cBjir1sZwuoT",
        "colab_type": "code",
        "colab": {
          "base_uri": "https://localhost:8080/",
          "height": 35
        },
        "outputId": "4d70a1c8-f4e5-4708-8166-a7e3ba889ddc"
      },
      "source": [
        "with tf.Session() as sess:\n",
        "  sess.run(init)\n",
        "  layer_out = sess.run(a,feed_dict = {x:np.random.random([1,n_features])})\n",
        "  print(layer_out)"
      ],
      "execution_count": 13,
      "outputs": [
        {
          "output_type": "stream",
          "text": [
            "[[0.5270941  0.6860441  0.51113623]]\n"
          ],
          "name": "stdout"
        }
      ]
    },
    {
      "cell_type": "markdown",
      "metadata": {
        "id": "WSgvcqaqw4Ee",
        "colab_type": "text"
      },
      "source": [
        "# Hello World Example(Constants)"
      ]
    },
    {
      "cell_type": "code",
      "metadata": {
        "id": "5uqyGQ7ww1Eh",
        "colab_type": "code",
        "colab": {}
      },
      "source": [
        "hello = tf.constant(\"Hello\")"
      ],
      "execution_count": 0,
      "outputs": []
    },
    {
      "cell_type": "code",
      "metadata": {
        "id": "TnNl7TGCxZx7",
        "colab_type": "code",
        "colab": {}
      },
      "source": [
        "world = tf.constant(\"World\")"
      ],
      "execution_count": 0,
      "outputs": []
    },
    {
      "cell_type": "code",
      "metadata": {
        "id": "ETrQPt10xcn0",
        "colab_type": "code",
        "colab": {
          "base_uri": "https://localhost:8080/",
          "height": 35
        },
        "outputId": "469e48db-38d5-4f87-c3b9-fb3662378e52"
      },
      "source": [
        "type(hello)"
      ],
      "execution_count": 16,
      "outputs": [
        {
          "output_type": "execute_result",
          "data": {
            "text/plain": [
              "tensorflow.python.framework.ops.Tensor"
            ]
          },
          "metadata": {
            "tags": []
          },
          "execution_count": 16
        }
      ]
    },
    {
      "cell_type": "code",
      "metadata": {
        "id": "vAk7ofQRxf0C",
        "colab_type": "code",
        "colab": {
          "base_uri": "https://localhost:8080/",
          "height": 35
        },
        "outputId": "97cc15f3-58d9-47b6-c072-e8192fbd3446"
      },
      "source": [
        "print(hello)"
      ],
      "execution_count": 17,
      "outputs": [
        {
          "output_type": "stream",
          "text": [
            "Tensor(\"Const:0\", shape=(), dtype=string)\n"
          ],
          "name": "stdout"
        }
      ]
    },
    {
      "cell_type": "code",
      "metadata": {
        "id": "TMqv9uXjxjX_",
        "colab_type": "code",
        "colab": {}
      },
      "source": [
        "with tf.Session() as sess:\n",
        "  result = sess.run(hello+world)"
      ],
      "execution_count": 0,
      "outputs": []
    },
    {
      "cell_type": "code",
      "metadata": {
        "id": "9z-3-6_1xnKP",
        "colab_type": "code",
        "colab": {
          "base_uri": "https://localhost:8080/",
          "height": 35
        },
        "outputId": "cf1de0ed-7e7a-4ff6-b5f6-6976ed0f9a73"
      },
      "source": [
        "print(result)"
      ],
      "execution_count": 19,
      "outputs": [
        {
          "output_type": "stream",
          "text": [
            "b'HelloWorld'\n"
          ],
          "name": "stdout"
        }
      ]
    },
    {
      "cell_type": "code",
      "metadata": {
        "id": "-BisKlDWxqCp",
        "colab_type": "code",
        "colab": {}
      },
      "source": [
        ""
      ],
      "execution_count": 0,
      "outputs": []
    }
  ]
}